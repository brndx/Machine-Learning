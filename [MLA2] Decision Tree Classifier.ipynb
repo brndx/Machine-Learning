{
 "cells": [
  {
   "cell_type": "code",
   "execution_count": 3,
   "metadata": {},
   "outputs": [],
   "source": [
    "droppedColumns = ['id','lowBand','highBand','price_bands','date','car_parks','bathrooms','address', 'suburb', 'suburb_property_count',\n",
    "                              'council_area', 'method']"
   ]
  },
  {
   "cell_type": "code",
   "execution_count": 4,
   "metadata": {},
   "outputs": [],
   "source": [
    "# ---------- IMPORT LIBRARIES ----------------------"
   ]
  },
  {
   "cell_type": "code",
   "execution_count": 5,
   "metadata": {},
   "outputs": [],
   "source": [
    "import pandas as pd\n",
    "import matplotlib.pyplot as plt\n",
    "import numpy as np\n",
    "import sklearn\n",
    "\n",
    "from sklearn import tree\n",
    "from sklearn import preprocessing\n",
    "from sklearn import metrics\n",
    "from sklearn import model_selection\n",
    "\n",
    "from sklearn.model_selection import train_test_split\n",
    "from sklearn.feature_selection import VarianceThreshold\n",
    "from sklearn.metrics import accuracy_score \n",
    "\n",
    "import graphviz"
   ]
  },
  {
   "cell_type": "code",
   "execution_count": 6,
   "metadata": {},
   "outputs": [],
   "source": [
    "# ---------- FUNCTIONS ----------------------"
   ]
  },
  {
   "cell_type": "code",
   "execution_count": 7,
   "metadata": {},
   "outputs": [],
   "source": [
    "def preprocess(dataTarget):\n",
    "    le = preprocessing.LabelEncoder()\n",
    "    le.fit(dataTarget)\n",
    "    class_labels = le.transform(dataTarget)\n",
    "    \n",
    "    return class_labels"
   ]
  },
  {
   "cell_type": "code",
   "execution_count": 8,
   "metadata": {},
   "outputs": [],
   "source": [
    "def preprocessData(data):\n",
    "    data = data.replace('Unknown', np.nan)\n",
    "    data.dropna(inplace=True)\n",
    "    \n",
    "    le = preprocessing.LabelEncoder()\n",
    "    for column_name in data.columns:\n",
    "        if data[column_name].dtype == object:\n",
    "            data[column_name] = le.fit_transform(data[column_name])\n",
    "        else:\n",
    "            pass\n",
    "    \n",
    "    return data"
   ]
  },
  {
   "cell_type": "code",
   "execution_count": 9,
   "metadata": {},
   "outputs": [],
   "source": [
    "def buildDt(dataAttrs, dataTarget):\n",
    "    #construct decision tree\n",
    "    clf = tree.DecisionTreeClassifier(criterion=\"entropy\")\n",
    "    clf = clf.fit(dataAttrs, dataTarget)\n",
    "    \n",
    "    return clf"
   ]
  },
  {
   "cell_type": "code",
   "execution_count": 10,
   "metadata": {},
   "outputs": [],
   "source": [
    "def printPred(df, testX, testY):\n",
    "    predictions = df.predict(testX)\n",
    "    print(metrics.classification_report(testY, predictions))"
   ]
  },
  {
   "cell_type": "code",
   "execution_count": 11,
   "metadata": {},
   "outputs": [],
   "source": [
    "def drawGraph(clf, X, Y):\n",
    "    dot_data = tree.export_graphviz(clf, out_file = None,\n",
    "                                feature_names =X.columns,\n",
    "                                class_names= Y,\n",
    "                                filled = True,\n",
    "                                rounded= False,\n",
    "                                special_characters = True\n",
    "                               )\n",
    "    graph = graphviz.Source(dot_data)\n",
    "    return graph"
   ]
  },
  {
   "cell_type": "code",
   "execution_count": 12,
   "metadata": {},
   "outputs": [],
   "source": [
    "def predict(df, testX):\n",
    "    prediction = df.predict(testX)\n",
    "    return prediction"
   ]
  },
  {
   "cell_type": "code",
   "execution_count": 13,
   "metadata": {},
   "outputs": [],
   "source": [
    "def printAccuracy(clf, testX, testY):\n",
    "    prediction = predict(clf, testX)\n",
    "    accuracy = accuracy_score(testY, prediction)\n",
    "    print(accuracy)"
   ]
  },
  {
   "cell_type": "code",
   "execution_count": 14,
   "metadata": {},
   "outputs": [],
   "source": [
    "def getAccuracy(clf, testX, testY):\n",
    "    prediction = predict(clf, testX)\n",
    "    accuracy = accuracy_score(testY, prediction)\n",
    "    return accuracy"
   ]
  },
  {
   "cell_type": "code",
   "execution_count": 15,
   "metadata": {},
   "outputs": [],
   "source": [
    "# ---------- SET UP ----------------------"
   ]
  },
  {
   "cell_type": "code",
   "execution_count": 16,
   "metadata": {},
   "outputs": [],
   "source": [
    "propertyData = pd.read_csv(\"property_prices.csv\")\n",
    "\n",
    "propertyData['lowBand'], propertyData['highBand'] = propertyData['price_bands'].str.split('-', 1).str\n",
    "propertyData['lowBand'] = propertyData['lowBand'].str[:-1]\n",
    "propertyData['highBand'] = propertyData['highBand'].str[:-1]\n",
    "\n",
    "propertyData = preprocessData(propertyData)"
   ]
  },
  {
   "cell_type": "code",
   "execution_count": 17,
   "metadata": {},
   "outputs": [
    {
     "name": "stdout",
     "output_type": "stream",
     "text": [
      "             precision    recall  f1-score   support\n",
      "\n",
      "          0       0.00      0.00      0.00         1\n",
      "          1       0.73      0.76      0.75       595\n",
      "          2       0.69      0.71      0.70       146\n",
      "          3       0.63      0.51      0.56        93\n",
      "          4       0.58      0.60      0.59       272\n",
      "          5       0.52      0.54      0.53       350\n",
      "          6       0.46      0.40      0.43       321\n",
      "\n",
      "avg / total       0.61      0.61      0.61      1778\n",
      "\n",
      "0.6107986501687289\n"
     ]
    }
   ],
   "source": [
    "Y = propertyData['lowBand']\n",
    "X = propertyData.drop(columns=droppedColumns)\n",
    "trainX, testX, trainY, testY = train_test_split(np.array(X), np.array(Y), test_size=0.2)\n",
    "\n",
    "clf = buildDt(trainX, trainY)\n",
    "printPred(clf, testX, testY)\n",
    "printAccuracy(clf, testX, testY)"
   ]
  },
  {
   "cell_type": "code",
   "execution_count": 19,
   "metadata": {},
   "outputs": [],
   "source": [
    "# ---------- DECISION TREE CLASSIFIER ----------------------"
   ]
  },
  {
   "cell_type": "code",
   "execution_count": 21,
   "metadata": {},
   "outputs": [
    {
     "name": "stderr",
     "output_type": "stream",
     "text": [
      "C:\\Software\\Anaconda\\lib\\site-packages\\sklearn\\preprocessing\\label.py:151: DeprecationWarning: The truth value of an empty array is ambiguous. Returning False, but in future this will result in an error. Use `array.size > 0` to check that an array is not empty.\n",
      "  if diff:\n"
     ]
    },
    {
     "name": "stdout",
     "output_type": "stream",
     "text": [
      "[3 4 6 ... 1 1 1]\n",
      "[0 1 2 3 4 5 6]\n",
      "[0.608548931383577, 0.6147356580427447, 0.6282339707536558, 0.6130483689538808, 0.609673790776153, 0.6276715410573678, 0.6107986501687289, 0.6214848143982002, 0.6079865016872891, 0.6192350956130483, 0.6046119235095613, 0.6220472440944882, 0.610236220472441, 0.6186726659167604, 0.6152980877390326, 0.6136107986501688, 0.6197975253093363, 0.623734533183352, 0.624859392575928, 0.608548931383577, 0.6203599550056242, 0.6169853768278966, 0.6152980877390326, 0.6164229471316085, 0.6181102362204725, 0.6136107986501688, 0.6130483689538808, 0.6203599550056242, 0.6175478065241845, 0.6197975253093363, 0.6220472440944882, 0.6186726659167604, 0.6181102362204725, 0.6271091113610798, 0.6209223847019123, 0.6147356580427447, 0.6186726659167604, 0.6226096737907761, 0.6186726659167604, 0.623734533183352, 0.6164229471316085, 0.6186726659167604, 0.6186726659167604, 0.6181102362204725, 0.6136107986501688, 0.6119235095613048, 0.6124859392575928, 0.6164229471316085, 0.6226096737907761, 0.6181102362204725, 0.6226096737907761, 0.6242969628796401, 0.6214848143982002, 0.6130483689538808, 0.6169853768278966, 0.6169853768278966, 0.6147356580427447, 0.6169853768278966, 0.609673790776153, 0.6231721034870641, 0.6209223847019123, 0.6158605174353206, 0.624859392575928, 0.6197975253093363, 0.6203599550056242, 0.6136107986501688, 0.6175478065241845, 0.6124859392575928, 0.6192350956130483, 0.6164229471316085, 0.6287964004499438, 0.6209223847019123, 0.6147356580427447, 0.6113610798650169, 0.6136107986501688, 0.6192350956130483, 0.6287964004499438, 0.6136107986501688, 0.6186726659167604, 0.6209223847019123, 0.6124859392575928, 0.6152980877390326, 0.609673790776153, 0.6192350956130483, 0.6231721034870641, 0.6242969628796401, 0.6113610798650169, 0.6124859392575928, 0.6175478065241845, 0.6259842519685039, 0.6186726659167604, 0.6175478065241845, 0.6197975253093363, 0.6231721034870641, 0.6147356580427447, 0.6152980877390326, 0.6169853768278966, 0.6119235095613048, 0.6226096737907761, 0.6181102362204725, 0.6152980877390326, 0.6203599550056242, 0.6158605174353206, 0.6203599550056242, 0.6130483689538808, 0.6158605174353206, 0.6152980877390326, 0.6141732283464567, 0.6136107986501688, 0.6169853768278966, 0.6136107986501688, 0.6130483689538808, 0.6186726659167604, 0.623734533183352, 0.6203599550056242, 0.6192350956130483, 0.6079865016872891, 0.6186726659167604, 0.6141732283464567, 0.6175478065241845, 0.6152980877390326, 0.608548931383577, 0.6107986501687289, 0.6152980877390326, 0.6197975253093363, 0.610236220472441, 0.6147356580427447, 0.6203599550056242, 0.6175478065241845, 0.6169853768278966, 0.623734533183352, 0.6130483689538808, 0.6186726659167604, 0.6130483689538808, 0.6158605174353206, 0.6181102362204725, 0.6169853768278966, 0.609673790776153, 0.609111361079865, 0.6214848143982002, 0.6282339707536558, 0.6164229471316085, 0.6124859392575928, 0.623734533183352]\n"
     ]
    }
   ],
   "source": [
    "#TESTING PARAMETER: MAX DEPTH OF TREE + MIN SAMPLES LEAF\n",
    "\n",
    "Y = propertyData['lowBand']\n",
    "X = propertyData.drop(columns=droppedColumns)\n",
    "\n",
    "trainX, testX, trainY, testY = train_test_split(np.array(X), np.array(Y), test_size=0.2)\n",
    "\n",
    "le = preprocessing.LabelEncoder()\n",
    "le.fit(trainY)\n",
    "class_labels = le.inverse_transform([0,1,2,3,4,5,6])\n",
    "print(le.transform(trainY))\n",
    "print(class_labels)\n",
    "\n",
    "max_depth = [1,2,3,4,5,6,7,8,9,10,15,20]\n",
    "min_samples = [1,2,3,4,5,6,7,8,9,10,15,20]\n",
    "accuracy = []\n",
    "\n",
    "for depth in max_depth:\n",
    "    for samples in min_samples:\n",
    "        lf = tree.DecisionTreeClassifier(criterion=\"entropy\", max_depth=depth, min_samples_leaf=samples)\n",
    "        clf.fit(trainX, trainY)\n",
    "        prediction = predict(clf,testX)\n",
    "        acc = accuracy_score(testY, prediction)\n",
    "        accuracy.append(acc)\n",
    "        \n",
    "#printPred(clf, testX, testY)\n",
    "#printAccuracy(clf, testX, testY)\n",
    "\n"
   ]
  },
  {
   "cell_type": "code",
   "execution_count": 26,
   "metadata": {},
   "outputs": [
    {
     "name": "stdout",
     "output_type": "stream",
     "text": [
      "(6, 15, 0.6287964004499438)\n",
      "(7, 5, 0.6287964004499438)\n",
      "(1, 3, 0.6282339707536558)\n",
      "(20, 9, 0.6282339707536558)\n",
      "(1, 6, 0.6276715410573678)\n",
      "(3, 10, 0.6271091113610798)\n",
      "(8, 6, 0.6259842519685039)\n",
      "(2, 7, 0.624859392575928)\n",
      "(6, 3, 0.624859392575928)\n",
      "(5, 4, 0.6242969628796401)\n",
      "(8, 2, 0.6242969628796401)\n",
      "(2, 6, 0.623734533183352)\n",
      "(4, 4, 0.623734533183352)\n",
      "(10, 6, 0.623734533183352)\n",
      "(15, 15, 0.623734533183352)\n",
      "(20, 20, 0.623734533183352)\n",
      "(5, 20, 0.6231721034870641)\n",
      "(8, 1, 0.6231721034870641)\n",
      "(8, 10, 0.6231721034870641)\n",
      "(4, 2, 0.6226096737907761)\n",
      "(5, 1, 0.6226096737907761)\n",
      "(5, 3, 0.6226096737907761)\n",
      "(9, 3, 0.6226096737907761)\n",
      "(1, 20, 0.6220472440944882)\n",
      "(3, 7, 0.6220472440944882)\n",
      "(1, 8, 0.6214848143982002)\n",
      "(5, 5, 0.6214848143982002)\n",
      "(20, 8, 0.6214848143982002)\n",
      "(3, 15, 0.6209223847019123)\n",
      "(6, 1, 0.6209223847019123)\n",
      "(6, 20, 0.6209223847019123)\n",
      "(7, 8, 0.6209223847019123)\n",
      "(2, 9, 0.6203599550056242)\n",
      "(3, 4, 0.6203599550056242)\n",
      "(6, 5, 0.6203599550056242)\n",
      "(9, 6, 0.6203599550056242)\n",
      "(9, 8, 0.6203599550056242)\n",
      "(10, 7, 0.6203599550056242)\n",
      "(15, 8, 0.6203599550056242)\n",
      "(2, 5, 0.6197975253093363)\n",
      "(3, 6, 0.6197975253093363)\n",
      "(6, 4, 0.6197975253093363)\n",
      "(8, 9, 0.6197975253093363)\n",
      "(15, 5, 0.6197975253093363)\n",
      "(1, 10, 0.6192350956130483)\n",
      "(6, 9, 0.6192350956130483)\n",
      "(7, 4, 0.6192350956130483)\n",
      "(7, 20, 0.6192350956130483)\n",
      "(10, 8, 0.6192350956130483)\n",
      "(2, 2, 0.6186726659167604)\n",
      "(3, 8, 0.6186726659167604)\n",
      "(4, 1, 0.6186726659167604)\n",
      "(4, 3, 0.6186726659167604)\n",
      "(4, 6, 0.6186726659167604)\n",
      "(4, 7, 0.6186726659167604)\n",
      "(7, 7, 0.6186726659167604)\n",
      "(8, 7, 0.6186726659167604)\n",
      "(10, 5, 0.6186726659167604)\n",
      "(10, 10, 0.6186726659167604)\n",
      "(20, 1, 0.6186726659167604)\n",
      "(3, 1, 0.6181102362204725)\n",
      "(3, 9, 0.6181102362204725)\n",
      "(4, 8, 0.6181102362204725)\n",
      "(5, 2, 0.6181102362204725)\n",
      "(9, 4, 0.6181102362204725)\n",
      "(20, 4, 0.6181102362204725)\n",
      "(3, 5, 0.6175478065241845)\n",
      "(6, 7, 0.6175478065241845)\n",
      "(8, 5, 0.6175478065241845)\n",
      "(8, 8, 0.6175478065241845)\n",
      "(10, 20, 0.6175478065241845)\n",
      "(15, 9, 0.6175478065241845)\n",
      "(2, 10, 0.6169853768278966)\n",
      "(5, 7, 0.6169853768278966)\n",
      "(5, 8, 0.6169853768278966)\n",
      "(5, 10, 0.6169853768278966)\n",
      "(9, 1, 0.6169853768278966)\n",
      "(10, 2, 0.6169853768278966)\n",
      "(15, 10, 0.6169853768278966)\n",
      "(20, 5, 0.6169853768278966)\n",
      "(2, 20, 0.6164229471316085)\n",
      "(4, 5, 0.6164229471316085)\n",
      "(4, 20, 0.6164229471316085)\n",
      "(6, 10, 0.6164229471316085)\n",
      "(20, 10, 0.6164229471316085)\n",
      "(6, 2, 0.6158605174353206)\n",
      "(9, 7, 0.6158605174353206)\n",
      "(9, 10, 0.6158605174353206)\n",
      "(20, 3, 0.6158605174353206)\n",
      "(2, 3, 0.6152980877390326)\n",
      "(2, 15, 0.6152980877390326)\n",
      "(7, 10, 0.6152980877390326)\n",
      "(8, 20, 0.6152980877390326)\n",
      "(9, 5, 0.6152980877390326)\n",
      "(9, 15, 0.6152980877390326)\n",
      "(15, 1, 0.6152980877390326)\n",
      "(15, 4, 0.6152980877390326)\n",
      "(1, 2, 0.6147356580427447)\n",
      "(3, 20, 0.6147356580427447)\n",
      "(5, 9, 0.6147356580427447)\n",
      "(7, 1, 0.6147356580427447)\n",
      "(8, 15, 0.6147356580427447)\n",
      "(15, 7, 0.6147356580427447)\n",
      "(9, 20, 0.6141732283464567)\n",
      "(10, 15, 0.6141732283464567)\n",
      "(2, 4, 0.6136107986501688)\n",
      "(3, 2, 0.6136107986501688)\n",
      "(4, 9, 0.6136107986501688)\n",
      "(6, 6, 0.6136107986501688)\n",
      "(7, 3, 0.6136107986501688)\n",
      "(7, 6, 0.6136107986501688)\n",
      "(10, 1, 0.6136107986501688)\n",
      "(10, 3, 0.6136107986501688)\n",
      "(1, 4, 0.6130483689538808)\n",
      "(3, 3, 0.6130483689538808)\n",
      "(5, 6, 0.6130483689538808)\n",
      "(9, 9, 0.6130483689538808)\n",
      "(10, 4, 0.6130483689538808)\n",
      "(15, 20, 0.6130483689538808)\n",
      "(20, 2, 0.6130483689538808)\n",
      "(4, 15, 0.6124859392575928)\n",
      "(6, 8, 0.6124859392575928)\n",
      "(7, 9, 0.6124859392575928)\n",
      "(8, 4, 0.6124859392575928)\n",
      "(20, 15, 0.6124859392575928)\n",
      "(4, 10, 0.6119235095613048)\n",
      "(9, 2, 0.6119235095613048)\n",
      "(7, 2, 0.6113610798650169)\n",
      "(8, 3, 0.6113610798650169)\n",
      "(1, 7, 0.6107986501687289)\n",
      "(15, 3, 0.6107986501687289)\n",
      "(2, 1, 0.610236220472441)\n",
      "(15, 6, 0.610236220472441)\n",
      "(1, 5, 0.609673790776153)\n",
      "(5, 15, 0.609673790776153)\n",
      "(7, 15, 0.609673790776153)\n",
      "(20, 6, 0.609673790776153)\n",
      "(20, 7, 0.609111361079865)\n",
      "(1, 1, 0.608548931383577)\n",
      "(2, 8, 0.608548931383577)\n",
      "(15, 2, 0.608548931383577)\n",
      "(1, 9, 0.6079865016872891)\n",
      "(10, 9, 0.6079865016872891)\n",
      "(1, 15, 0.6046119235095613)\n"
     ]
    }
   ],
   "source": [
    "linked_accuracy = []\n",
    "for idx, elem in enumerate(max_depth):\n",
    "    for jdx, elem2 in enumerate(min_samples):\n",
    "        linked_accuracy.append((elem, elem2, accuracy[idx * len(max_depth) + jdx]))\n",
    "\n",
    "linked_accuracy = sorted(linked_accuracy, key=lambda x: x[2], reverse=True)\n",
    "\n",
    "for elem in linked_accuracy:\n",
    "    print elem"
   ]
  },
  {
   "cell_type": "code",
   "execution_count": 31,
   "metadata": {},
   "outputs": [
    {
     "name": "stdout",
     "output_type": "stream",
     "text": [
      "[4 4 6 ... 1 5 1]\n",
      "[0 1 2 3 4 5 6]\n",
      "             precision    recall  f1-score   support\n",
      "\n",
      "          0       0.00      0.00      0.00         0\n",
      "          1       0.75      0.73      0.74       615\n",
      "          2       0.60      0.65      0.62       145\n",
      "          3       0.63      0.53      0.58        75\n",
      "          4       0.61      0.68      0.65       287\n",
      "          5       0.54      0.53      0.53       360\n",
      "          6       0.45      0.44      0.44       296\n",
      "\n",
      "avg / total       0.62      0.62      0.62      1778\n",
      "\n",
      "0.6164229471316085\n"
     ]
    },
    {
     "name": "stderr",
     "output_type": "stream",
     "text": [
      "C:\\Software\\Anaconda\\lib\\site-packages\\sklearn\\preprocessing\\label.py:151: DeprecationWarning: The truth value of an empty array is ambiguous. Returning False, but in future this will result in an error. Use `array.size > 0` to check that an array is not empty.\n",
      "  if diff:\n"
     ]
    }
   ],
   "source": [
    "#USING RESULTS FROM PREVIOUS\n",
    "\n",
    "Y = propertyData['lowBand']\n",
    "X = propertyData.drop(columns=droppedColumns)\n",
    "\n",
    "trainX, testX, trainY, testY = train_test_split(np.array(X), np.array(Y), test_size=0.2)\n",
    "\n",
    "le = preprocessing.LabelEncoder()\n",
    "le.fit(trainY)\n",
    "class_labels = le.inverse_transform([0,1,2,3,4,5,6])\n",
    "print(le.transform(trainY))\n",
    "print(class_labels)\n",
    "\n",
    "lf = tree.DecisionTreeClassifier(criterion=\"entropy\", max_depth = 6, min_samples_leaf = 15)\n",
    "clf.fit(trainX, trainY)\n",
    "printPred(clf, testX, testY)\n",
    "printAccuracy(clf, testX, testY)\n",
    "\n"
   ]
  }
 ],
 "metadata": {
  "kernelspec": {
   "display_name": "Python 2",
   "language": "python",
   "name": "python2"
  },
  "language_info": {
   "codemirror_mode": {
    "name": "ipython",
    "version": 2
   },
   "file_extension": ".py",
   "mimetype": "text/x-python",
   "name": "python",
   "nbconvert_exporter": "python",
   "pygments_lexer": "ipython2",
   "version": "2.7.15"
  }
 },
 "nbformat": 4,
 "nbformat_minor": 2
}
