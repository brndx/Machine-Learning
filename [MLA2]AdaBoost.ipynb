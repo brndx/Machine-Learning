{
 "cells": [
  {
   "cell_type": "code",
   "execution_count": null,
   "metadata": {},
   "outputs": [],
   "source": [
    "import pandas\n",
    "from sklearn.feature_selection import RFE\n",
    "from sklearn.svm import SVR\n",
    "import numpy as np\n",
    "from sklearn.svm import SVC\n",
    "from sklearn.datasets import make_regression\n",
    "from sklearn.datasets import make_classification\n",
    "from sklearn import datasets, linear_model\n",
    "from yellowbrick.features import RFECV\n",
    "import matplotlib.pyplot as plt\n",
    "from sklearn.cross_validation import ShuffleSplit\n",
    "from collections import defaultdict\n",
    "from sklearn import cross_validation\n",
    "#from sklearn.feature_selection import RFECV\n",
    "from sklearn.ensemble import RandomForestClassifier\n",
    "from sklearn.ensemble import GradientBoostingClassifier\n",
    "from sklearn.feature_selection import SelectKBest, f_classif\n",
    "from sklearn.model_selection import StratifiedKFold\n",
    "from sklearn.ensemble import ExtraTreesClassifier\n",
    "from sklearn.tree import DecisionTreeClassifier\n",
    "#from sklearn.feature_selection import GenericUnivariateSelect\n",
    "from sklearn import datasets\n",
    "#from sklearn.feature_selection import VarianceThreshold\n",
    "from sklearn import model_selection\n",
    "import numpy as np\n",
    "from sklearn.ensemble import AdaBoostClassifier"
   ]
  },
  {
   "cell_type": "code",
   "execution_count": null,
   "metadata": {},
   "outputs": [],
   "source": [
    "def preprocessData(data):\n",
    "    data = data.replace('Unknown', np.nan)\n",
    "    data.dropna(inplace=True)\n",
    "    \n",
    "    return data\n"
   ]
  },
  {
   "cell_type": "code",
   "execution_count": null,
   "metadata": {},
   "outputs": [],
   "source": [
    "attribute = ['address', 'rooms', 'type', 'method', 'realestate_agent', 'date', 'distance', 'postcode', 'bedrooms',\n",
    "             'bathrooms', 'car_parks', 'landsize', 'building_area', 'year_built',\n",
    "            'council_area', 'lattitude', 'longtitude', 'region_name', 'suburb_property_count']\n",
    "propertyData = pandas.read_csv(\"property_prices.csv\")\n",
    "propertyData = preprocessData(propertyData)"
   ]
  },
  {
   "cell_type": "code",
   "execution_count": null,
   "metadata": {},
   "outputs": [],
   "source": [
    "propertyData['lowBand'], propertyData['highBand'] = propertyData['price_bands'].str.split('-', 1).str\n",
    "propertyData['lowBand'] = propertyData['lowBand'].str[:-1]\n",
    "propertyData['highBand'] = propertyData['highBand'].str[:-1]\n",
    "\n",
    "for attr in attribute: \n",
    "\n",
    "    Y = propertyData['lowBand']\n",
    "    X = propertyData.drop(columns=['id','lowBand', 'highBand','price_bands', attr])"
   ]
  },
  {
   "cell_type": "code",
   "execution_count": null,
   "metadata": {},
   "outputs": [],
   "source": [
    "def test_f_classif():\n",
    "\n",
    "    X, y = make_classification(n_samples=200, n_features=20,\n",
    "                               n_informative=3, n_redundant=2,\n",
    "                               n_repeated=0, n_classes=8,\n",
    "                               n_clusters_per_class=1, flip_y=0.0,\n",
    "                               class_sep=10, shuffle=False, random_state=0)\n",
    "\n",
    "    F, pv = f_classif(X, Y)\n",
    "    F_sparse, pv_sparse = f_classif(sparse.csr_matrix(X), Y)\n",
    "    assert_true((F > 0).all())\n",
    "    assert_true((pv > 0).all())\n",
    "    assert_true((pv < 1).all())\n",
    "    assert_true((pv[:5] < 0.05).all())\n",
    "    assert_true((pv[5:] > 1.e-4).all())\n",
    "    assert_array_almost_equal(F_sparse, F)\n",
    "    assert_array_almost_equal(pv_sparse, pv)\n",
    "    print(\"a\")\n"
   ]
  },
  {
   "cell_type": "code",
   "execution_count": null,
   "metadata": {},
   "outputs": [],
   "source": [
    "X = pandas.get_dummies(X)\n",
    "\n",
    "#thresholder = VarianceThreshold(threshold=0.5)\n",
    "#X = thresholder.fit_transform(X)\n",
    "#X = GenericUnivariateSelect(f_classif, mode='percentile',param=5).fit(X, Y).transform(X)\n",
    "selector = SelectKBest(f_classif, k=3)\n",
    "selector.fit(X, Y)\n",
    "X = selector.transform(X)\n",
    "\n",
    "seed = 7\n",
    "num_trees = 30\n",
    "kfold = model_selection.KFold(n_splits=10, random_state=seed)"
   ]
  },
  {
   "cell_type": "code",
   "execution_count": null,
   "metadata": {},
   "outputs": [],
   "source": [
    "model = AdaBoostClassifier(n_estimators=num_trees, random_state=seed)\n",
    "#results = model_selection.cross_val_score(model, X, Y, cv=kfold)\n",
    "#print(results.mean())\n",
    "# Create recursive feature eliminator that scores features by mean squared errors\n",
    "estimator = SVR(kernel=\"linear\")\n",
    "selector = RFE(estimator, 5, step=1)\n",
    "selector = selector.fit(X, Y)\n",
    "print(selector.support_)"
   ]
  }
 ],
 "metadata": {
  "kernelspec": {
   "display_name": "Python 3",
   "language": "python",
   "name": "python3"
  },
  "language_info": {
   "codemirror_mode": {
    "name": "ipython",
    "version": 3
   },
   "file_extension": ".py",
   "mimetype": "text/x-python",
   "name": "python",
   "nbconvert_exporter": "python",
   "pygments_lexer": "ipython3",
   "version": "3.6.0"
  }
 },
 "nbformat": 4,
 "nbformat_minor": 2
}
