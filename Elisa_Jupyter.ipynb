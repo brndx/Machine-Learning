{
 "cells": [
  {
   "cell_type": "code",
   "execution_count": 1,
   "metadata": {},
   "outputs": [],
   "source": [
    "# ---------- IMPORT LIBRARIES ----------------------"
   ]
  },
  {
   "cell_type": "code",
   "execution_count": 2,
   "metadata": {},
   "outputs": [],
   "source": [
    "import pandas as pd\n",
    "import matplotlib.pyplot as plt\n",
    "import numpy as np\n",
    "import sklearn\n",
    "\n",
    "from sklearn import tree\n",
    "from sklearn import preprocessing\n",
    "from sklearn import metrics\n",
    "from sklearn import model_selection\n",
    "\n",
    "from sklearn.model_selection import train_test_split\n",
    "from sklearn.feature_selection import VarianceThreshold\n",
    "from sklearn.metrics import accuracy_score \n",
    "\n",
    "import graphviz"
   ]
  },
  {
   "cell_type": "code",
   "execution_count": 3,
   "metadata": {},
   "outputs": [],
   "source": [
    "# ---------- FUNCTIONS ----------------------"
   ]
  },
  {
   "cell_type": "code",
   "execution_count": 4,
   "metadata": {},
   "outputs": [],
   "source": [
    "def preprocess(dataTarget):\n",
    "    le = preprocessing.LabelEncoder()\n",
    "    le.fit(dataTarget)\n",
    "    class_labels = le.transform(dataTarget)\n",
    "    \n",
    "    return class_labels"
   ]
  },
  {
   "cell_type": "code",
   "execution_count": 5,
   "metadata": {},
   "outputs": [],
   "source": [
    "def preprocessData(data):\n",
    "    data = data.replace('Unknown', np.nan)\n",
    "    data.dropna(inplace=True)\n",
    "    \n",
    "    le = preprocessing.LabelEncoder()\n",
    "    for column_name in data.columns:\n",
    "        if data[column_name].dtype == object:\n",
    "            data[column_name] = le.fit_transform(data[column_name])\n",
    "        else:\n",
    "            pass\n",
    "    \n",
    "    return data"
   ]
  },
  {
   "cell_type": "code",
   "execution_count": 6,
   "metadata": {},
   "outputs": [],
   "source": [
    "def buildDt(dataAttrs, dataTarget):\n",
    "    #construct decision tree\n",
    "    clf = tree.DecisionTreeClassifier(criterion=\"entropy\")\n",
    "    clf = clf.fit(dataAttrs, dataTarget)\n",
    "    \n",
    "    return clf"
   ]
  },
  {
   "cell_type": "code",
   "execution_count": 7,
   "metadata": {},
   "outputs": [],
   "source": [
    "def printPred(df, testX, testY):\n",
    "    predictions = df.predict(testX)\n",
    "    print(metrics.classification_report(testY, predictions))"
   ]
  },
  {
   "cell_type": "code",
   "execution_count": 8,
   "metadata": {},
   "outputs": [],
   "source": [
    "def drawGraph(clf, X, Y):\n",
    "    dot_data = tree.export_graphviz(clf, out_file = None,\n",
    "                                feature_names =X.columns,\n",
    "                                class_names= Y,\n",
    "                                filled = True,\n",
    "                                rounded= False,\n",
    "                                special_characters = True\n",
    "                               )\n",
    "    graph = graphviz.Source(dot_data)\n",
    "    return graph"
   ]
  },
  {
   "cell_type": "code",
   "execution_count": 9,
   "metadata": {},
   "outputs": [],
   "source": [
    "def predict(df, testX):\n",
    "    prediction = df.predict(testX)\n",
    "    return prediction"
   ]
  },
  {
   "cell_type": "code",
   "execution_count": 10,
   "metadata": {},
   "outputs": [],
   "source": [
    "def printAccuracy(clf, testX, testY):\n",
    "    prediction = predict(clf, testX)\n",
    "    accuracy = accuracy_score(testY, prediction)\n",
    "    print(accuracy)"
   ]
  },
  {
   "cell_type": "code",
   "execution_count": 11,
   "metadata": {},
   "outputs": [],
   "source": [
    "def getAccuracy(clf, testX, testY):\n",
    "    prediction = predict(clf, testX)\n",
    "    accuracy = accuracy_score(testY, prediction)\n",
    "    return accuracy"
   ]
  },
  {
   "cell_type": "code",
   "execution_count": 12,
   "metadata": {},
   "outputs": [],
   "source": [
    "propertyData = pd.read_csv(\"property_prices.csv\")\n",
    "\n",
    "propertyData['lowBand'], propertyData['highBand'] = propertyData['price_bands'].str.split('-', 1).str\n",
    "propertyData['lowBand'] = propertyData['lowBand'].str[:-1]\n",
    "propertyData['highBand'] = propertyData['highBand'].str[:-1]\n",
    "\n",
    "propertyData = preprocessData(propertyData)"
   ]
  },
  {
   "cell_type": "code",
   "execution_count": 14,
   "metadata": {},
   "outputs": [
    {
     "name": "stdout",
     "output_type": "stream",
     "text": [
      "             precision    recall  f1-score   support\n",
      "\n",
      "          0       0.00      0.00      0.00         0\n",
      "          1       0.75      0.72      0.73       624\n",
      "          2       0.68      0.72      0.70       139\n",
      "          3       0.68      0.60      0.64        86\n",
      "          4       0.56      0.61      0.58       267\n",
      "          5       0.48      0.46      0.47       367\n",
      "          6       0.38      0.41      0.39       295\n",
      "\n",
      "avg / total       0.60      0.59      0.59      1778\n",
      "\n",
      "0.5916760404949382\n"
     ]
    },
    {
     "name": "stderr",
     "output_type": "stream",
     "text": [
      "C:\\Software\\Anaconda\\lib\\site-packages\\sklearn\\metrics\\classification.py:1137: UndefinedMetricWarning: Recall and F-score are ill-defined and being set to 0.0 in labels with no true samples.\n",
      "  'recall', 'true', average, warn_for)\n"
     ]
    }
   ],
   "source": [
    "Y = propertyData['lowBand']\n",
    "\n",
    "X = propertyData.drop(columns=['id','lowBand','highBand','price_bands','date','car_parks','bathrooms','address', 'suburb', 'suburb_property_count',\n",
    "                              'council_area', 'method'])\n",
    "trainX, testX, trainY, testY = train_test_split(np.array(X), np.array(Y), test_size=0.2)\n",
    "\n",
    "clf = buildDt(trainX, trainY)\n",
    "printPred(clf, testX, testY)\n",
    "printAccuracy(clf, testX, testY)"
   ]
  },
  {
   "cell_type": "code",
   "execution_count": 15,
   "metadata": {},
   "outputs": [],
   "source": [
    "# ---------- FEATURE SELECTION ----------------------"
   ]
  },
  {
   "cell_type": "code",
   "execution_count": 16,
   "metadata": {},
   "outputs": [],
   "source": [
    "#BASIC: NO FEATURES SELECTED"
   ]
  },
  {
   "cell_type": "code",
   "execution_count": 17,
   "metadata": {},
   "outputs": [],
   "source": [
    "from sklearn.preprocessing import robust_scale\n",
    "\n",
    "Y = propertyData['lowBand']\n",
    "X = propertyData.drop(columns=['id','lowBand', 'highBand', 'price_bands'])"
   ]
  },
  {
   "cell_type": "code",
   "execution_count": 18,
   "metadata": {},
   "outputs": [
    {
     "name": "stdout",
     "output_type": "stream",
     "text": [
      "[4 6 6 ... 3 5 5]\n",
      "[0 1 2 3 4 5 6]\n",
      "             precision    recall  f1-score   support\n",
      "\n",
      "          0       0.00      0.00      0.00         1\n",
      "          1       0.71      0.72      0.72       603\n",
      "          2       0.69      0.65      0.67       154\n",
      "          3       0.59      0.63      0.61        84\n",
      "          4       0.57      0.58      0.57       271\n",
      "          5       0.49      0.44      0.46       367\n",
      "          6       0.35      0.37      0.36       298\n",
      "\n",
      "avg / total       0.57      0.57      0.57      1778\n",
      "\n",
      "0.5731158605174353\n"
     ]
    },
    {
     "name": "stderr",
     "output_type": "stream",
     "text": [
      "C:\\Software\\Anaconda\\lib\\site-packages\\sklearn\\preprocessing\\label.py:151: DeprecationWarning: The truth value of an empty array is ambiguous. Returning False, but in future this will result in an error. Use `array.size > 0` to check that an array is not empty.\n",
      "  if diff:\n"
     ]
    }
   ],
   "source": [
    "Y = propertyData['lowBand']\n",
    "X = propertyData.drop(columns=['id','lowBand', 'highBand', 'price_bands', 'suburb','rooms','type','method', 'lattitude','longtitude'])\n",
    "#X = propertyData[['suburb','rooms','type','method','date']]\n",
    "XE = pd.get_dummies(X)\n",
    "X = robust_scale(XE)\n",
    "\n",
    "trainX, testX, trainY, testY = train_test_split(np.array(XE), np.array(Y), test_size=0.2)\n",
    "\n",
    "le = preprocessing.LabelEncoder()\n",
    "le.fit(trainY)\n",
    "class_labels = le.inverse_transform([0,1,2,3,4,5,6])\n",
    "print(le.transform(trainY))\n",
    "print(class_labels)\n",
    "\n",
    "clf = buildDt(trainX, trainY)\n",
    "printPred(clf, testX, testY)\n",
    "printAccuracy(clf, testX, testY)"
   ]
  },
  {
   "cell_type": "code",
   "execution_count": null,
   "metadata": {},
   "outputs": [],
   "source": [
    "#VARIANCE THRESHOLD"
   ]
  },
  {
   "cell_type": "code",
   "execution_count": null,
   "metadata": {},
   "outputs": [],
   "source": [
    "Y = propertyData['lowBand']\n",
    "X = propertyData.drop(columns=['id','lowBand', 'highBand', 'price_bands'])\n",
    "\n",
    "XE = pd.get_dummies(X)\n",
    "\n",
    "sel = VarianceThreshold(threshold=(.8 * (1 - .8)))\n",
    "sel.fit_transform(XE)\n",
    "\n",
    "trainX, testX, trainY, testY = train_test_split(np.array(XE), np.array(Y), test_size=0.2)\n",
    "\n",
    "le = preprocessing.LabelEncoder()\n",
    "le.fit(trainY)\n",
    "class_labels = le.inverse_transform([0,1,2,3,4,5,6])\n",
    "print(le.transform(trainY))\n",
    "print(class_labels)\n",
    "\n",
    "clf = buildDt(trainX, trainY)\n",
    "printPred(clf, testX, testY)\n",
    "printAccuracy(clf, testX, testY)"
   ]
  },
  {
   "cell_type": "code",
   "execution_count": null,
   "metadata": {},
   "outputs": [],
   "source": [
    "#FEATURE IMPORTANCE + RANDOM FOREST REGRESSOR"
   ]
  },
  {
   "cell_type": "code",
   "execution_count": null,
   "metadata": {},
   "outputs": [],
   "source": [
    "from sklearn.datasets import load_boston\n",
    "from sklearn.ensemble import RandomForestRegressor\n",
    "\n",
    "names = propertyData[:1]\n",
    "rf = RandomForestRegressor()\n",
    "rf.fit(XE, Y)\n",
    "print \"Features sorted by their score:\"\n",
    "print sorted(zip(map(lambda x: round(x, 4), rf.feature_importances_), names), \n",
    "             reverse=True)"
   ]
  },
  {
   "cell_type": "code",
   "execution_count": null,
   "metadata": {},
   "outputs": [],
   "source": [
    "#SELECT K BEST - CHI2"
   ]
  },
  {
   "cell_type": "code",
   "execution_count": null,
   "metadata": {},
   "outputs": [],
   "source": [
    "from sklearn.feature_selection import SelectKBest\n",
    "from sklearn.feature_selection import chi2\n",
    "\n",
    "Y = propertyData['lowBand']\n",
    "X = propertyData.drop(columns=['id','lowBand', 'highBand', 'price_bands', 'longtitude','lattitude', 'building_area'])\n",
    "\n",
    "XE = pd.get_dummies(X)\n",
    "\n",
    "trainX, testX, trainY, testY = train_test_split(np.array(XE), np.array(Y), test_size=0.2)\n",
    "\n",
    "names = propertyData.columns[1:]\n",
    "\n",
    "select_feature = SelectKBest(chi2, k=10).fit(trainX, trainY)\n",
    "print('Score list:', select_feature.scores_)\n",
    "print('Feature list:', names)"
   ]
  },
  {
   "cell_type": "code",
   "execution_count": null,
   "metadata": {},
   "outputs": [],
   "source": [
    "joined = zip(names, select_feature.scores_)\n",
    "joined = sorted(joined, key=lambda x: x[1])\n",
    "joined.reverse()\n",
    "\n",
    "for entry in joined:\n",
    "    print(entry[0], entry[1])"
   ]
  },
  {
   "cell_type": "code",
   "execution_count": null,
   "metadata": {},
   "outputs": [],
   "source": [
    "#CLASSIF"
   ]
  },
  {
   "cell_type": "code",
   "execution_count": null,
   "metadata": {},
   "outputs": [],
   "source": [
    "from sklearn.feature_selection import SelectKBest\n",
    "from sklearn.feature_selection import chi2\n",
    "from sklearn.feature_selection import f_classif\n",
    "\n",
    "Y = propertyData['lowBand']\n",
    "X = propertyData.drop(columns=['id','lowBand', 'highBand', 'price_bands', 'longtitude','lattitude'])\n",
    "\n",
    "XE = pd.get_dummies(X)\n",
    "\n",
    "trainX, testX, trainY, testY = train_test_split(np.array(XE), np.array(Y), test_size=0.2)\n",
    "\n",
    "names = propertyData.columns[1:]\n",
    "\n",
    "select_feature = SelectKBest(score_func=f_classif, k=5).fit(trainX, trainY)\n",
    "print('Score list:', select_feature.scores_)\n",
    "print('Feature list:', names)"
   ]
  },
  {
   "cell_type": "code",
   "execution_count": null,
   "metadata": {},
   "outputs": [],
   "source": [
    "joined = zip(names, select_feature.scores_)\n",
    "joined = sorted(joined, key=lambda x: x[1])\n",
    "joined.reverse()\n",
    "\n",
    "for entry in joined:\n",
    "    print(entry[0], entry[1])"
   ]
  },
  {
   "cell_type": "code",
   "execution_count": null,
   "metadata": {},
   "outputs": [],
   "source": [
    "from sklearn.ensemble import RandomForestClassifier\n",
    "from sklearn.feature_selection import RFE\n",
    "\n",
    "\n",
    "clf_rf_3 = RandomForestClassifier()      \n",
    "rfe = RFE(estimator=clf_rf_3, n_features_to_select=5, step=1)\n",
    "rfe = rfe.fit(trainX, trainY)\n"
   ]
  },
  {
   "cell_type": "code",
   "execution_count": null,
   "metadata": {},
   "outputs": [],
   "source": []
  },
  {
   "cell_type": "code",
   "execution_count": null,
   "metadata": {},
   "outputs": [],
   "source": [
    "names = propertyData[:1]\n",
    "\n",
    "print sorted(zip(rfe.support_, names), reverse=True)\n",
    "#print('Chosen best 5 feature by rfe:',names.[rfe.support_])"
   ]
  },
  {
   "cell_type": "code",
   "execution_count": null,
   "metadata": {},
   "outputs": [],
   "source": [
    "Y = propertyData['lowBand']\n",
    "#X = propertyData.drop(columns=['id','lowBand', 'highBand', 'price_bands', \n",
    "                               #'bathrooms','longtitude', 'lattitude'])\n",
    "X = propertyData[['realestate_agent','postcode','method','distance']]\n",
    "XE = pd.get_dummies(X)\n",
    "\n",
    "trainX, testX, trainY, testY = train_test_split(np.array(XE), np.array(Y), test_size=0.2)\n",
    "\n",
    "le = preprocessing.LabelEncoder()\n",
    "le.fit(trainY)\n",
    "class_labels = le.inverse_transform([0,1,2,3,4,5,6])\n",
    "print(le.transform(trainY))\n",
    "print(class_labels)\n",
    "\n",
    "clf = buildDt(trainX, trainY)\n",
    "printPred(clf, testX, testY)\n",
    "printAccuracy(clf, testX, testY)"
   ]
  },
  {
   "cell_type": "code",
   "execution_count": null,
   "metadata": {},
   "outputs": [],
   "source": [
    "#SELECT FROM MODEL"
   ]
  },
  {
   "cell_type": "code",
   "execution_count": 172,
   "metadata": {},
   "outputs": [
    {
     "name": "stdout",
     "output_type": "stream",
     "text": [
      "Features sorted by their score:\n",
      "[(0.2021, 'realestate_agent'), (0.1439, 'distance'), (0.135, 'date'), (0.1238, 'address'), (0.1219, 'postcode'), (0.1002, 'method'), (0.0572, 'rooms'), (0.0415, 'price_bands'), (0.0339, 'suburb'), (0.0189, 'type'), (0.0167, 'id'), (0.0048, 'bedrooms')]\n",
      "(8887L, 6L)\n"
     ]
    }
   ],
   "source": [
    "from sklearn.ensemble import ExtraTreesClassifier\n",
    "from sklearn.feature_selection import SelectFromModel\n",
    "from sklearn.ensemble import RandomForestRegressor\n",
    "\n",
    "names = propertyData[:1]\n",
    "rfr= RandomForestRegressor()\n",
    "rfr.fit(X, Y)\n",
    "print \"Features sorted by their score:\"\n",
    "print sorted(zip(map(lambda x: round(x, 4), rfr.feature_importances_), names), \n",
    "             reverse=True)\n",
    "\n",
    "model = SelectFromModel(rfr, prefit=True)\n",
    "X_new = model.transform(XE)\n",
    "print(X_new.shape)"
   ]
  },
  {
   "cell_type": "code",
   "execution_count": null,
   "metadata": {},
   "outputs": [],
   "source": [
    "\n",
    "trainX, testX, trainY, testY = train_test_split(np.array(X_new), np.array(Y), test_size=0.2)\n",
    "\n",
    "le = preprocessing.LabelEncoder()\n",
    "le.fit(trainY)\n",
    "class_labels = le.inverse_transform([0,1,2,3,4,5,6])\n",
    "print(le.transform(trainY))\n",
    "print(class_labels)\n",
    "\n",
    "clf = buildDt(trainX, trainY)\n",
    "printPred(clf, testX, testY)\n",
    "printAccuracy(clf, testX, testY)"
   ]
  },
  {
   "cell_type": "code",
   "execution_count": null,
   "metadata": {},
   "outputs": [],
   "source": [
    "#TRYING FEATURES DETERMINED BY KBEST"
   ]
  },
  {
   "cell_type": "code",
   "execution_count": 170,
   "metadata": {},
   "outputs": [
    {
     "name": "stdout",
     "output_type": "stream",
     "text": [
      "[4 5 4 ... 2 5 1]\n",
      "[0 1 2 3 4 5 6]\n",
      "             precision    recall  f1-score   support\n",
      "\n",
      "          0       0.00      0.00      0.00         1\n",
      "          1       0.77      0.73      0.75       626\n",
      "          2       0.57      0.63      0.60       127\n",
      "          3       0.55      0.56      0.55        59\n",
      "          4       0.65      0.62      0.64       317\n",
      "          5       0.52      0.55      0.53       365\n",
      "          6       0.43      0.46      0.44       283\n",
      "\n",
      "avg / total       0.62      0.62      0.62      1778\n",
      "\n",
      "0.6181102362204725\n"
     ]
    },
    {
     "name": "stderr",
     "output_type": "stream",
     "text": [
      "C:\\Software\\Anaconda\\lib\\site-packages\\sklearn\\preprocessing\\label.py:151: DeprecationWarning: The truth value of an empty array is ambiguous. Returning False, but in future this will result in an error. Use `array.size > 0` to check that an array is not empty.\n",
      "  if diff:\n"
     ]
    }
   ],
   "source": [
    "Y = propertyData['lowBand']\n",
    "#X = propertyData.drop(columns=['id','lowBand', 'highBand', 'price_bands', \n",
    "                               #'bathrooms','longtitude', 'lattitude'])\n",
    "X = propertyData.drop(columns=['id','lowBand','highBand','price_bands','date','car_parks','bathrooms','address', 'suburb', 'suburb_property_count',\n",
    "                              'council_area', 'method'])\n",
    "XE = pd.get_dummies(X)\n",
    "\n",
    "trainX, testX, trainY, testY = train_test_split(np.array(XE), np.array(Y), test_size=0.2)\n",
    "\n",
    "le = preprocessing.LabelEncoder()\n",
    "le.fit(trainY)\n",
    "class_labels = le.inverse_transform([0,1,2,3,4,5,6])\n",
    "print(le.transform(trainY))\n",
    "print(class_labels)\n",
    "\n",
    "clf = buildDt(trainX, trainY)\n",
    "printPred(clf, testX, testY)\n",
    "printAccuracy(clf, testX, testY)"
   ]
  }
 ],
 "metadata": {
  "kernelspec": {
   "display_name": "Python 2",
   "language": "python",
   "name": "python2"
  },
  "language_info": {
   "codemirror_mode": {
    "name": "ipython",
    "version": 2
   },
   "file_extension": ".py",
   "mimetype": "text/x-python",
   "name": "python",
   "nbconvert_exporter": "python",
   "pygments_lexer": "ipython2",
   "version": "2.7.15"
  }
 },
 "nbformat": 4,
 "nbformat_minor": 2
}
