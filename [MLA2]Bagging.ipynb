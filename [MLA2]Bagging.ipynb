{
 "cells": [
  {
   "cell_type": "code",
   "execution_count": 25,
   "metadata": {},
   "outputs": [],
   "source": [
    "import pandas\n",
    "from sklearn import model_selection\n",
    "import numpy as np\n",
    "from sklearn.ensemble import BaggingClassifier\n",
    "from sklearn.tree import DecisionTreeClassifier"
   ]
  },
  {
   "cell_type": "code",
   "execution_count": 26,
   "metadata": {},
   "outputs": [],
   "source": [
    "def preprocessData(data):\n",
    "    data = data.replace('Unknown', np.nan)\n",
    "    data.dropna(inplace=True)\n",
    "    \n",
    "    return data"
   ]
  },
  {
   "cell_type": "code",
   "execution_count": 27,
   "metadata": {},
   "outputs": [],
   "source": [
    "attribute = ['address', 'rooms', 'type', 'method', 'realestate_agent', 'date', 'distance', 'postcode', 'bedrooms',\n",
    "             'bathrooms', 'car_parks', 'landsize', 'building_area', 'year_built',\n",
    "            'council_area', 'lattitude', 'longtitude', 'region_name', 'suburb_property_count']\n",
    "propertyData = pandas.read_csv(\"property_prices.csv\")\n",
    "propertyData = preprocessData(propertyData)"
   ]
  },
  {
   "cell_type": "code",
   "execution_count": 28,
   "metadata": {},
   "outputs": [],
   "source": [
    "propertyData['lowBand'], propertyData['highBand'] = propertyData['price_bands'].str.split('-', 1).str\n",
    "propertyData['lowBand'] = propertyData['lowBand'].str[:-1]\n",
    "propertyData['highBand'] = propertyData['highBand'].str[:-1]\n",
    "\n",
    "for attr in attribute: \n",
    "\n",
    "    Y = propertyData['lowBand']\n",
    "    X = propertyData.drop(columns=['id','lowBand', 'highBand','price_bands', attr])"
   ]
  },
  {
   "cell_type": "code",
   "execution_count": 29,
   "metadata": {},
   "outputs": [],
   "source": [
    "X = pandas.get_dummies(X)\n",
    "seed = 7\n",
    "kfold = model_selection.KFold(n_splits=10, random_state=seed)\n",
    "cart = DecisionTreeClassifier()\n",
    "num_trees = 100"
   ]
  },
  {
   "cell_type": "code",
   "execution_count": null,
   "metadata": {},
   "outputs": [],
   "source": [
    "model = BaggingClassifier(base_estimator=cart, n_estimators=num_trees, random_state=seed)\n",
    "results = model_selection.cross_val_score(model, X, Y, cv=kfold)\n",
    "print(results.mean())"
   ]
  }
 ],
 "metadata": {
  "kernelspec": {
   "display_name": "Python 3",
   "language": "python",
   "name": "python3"
  },
  "language_info": {
   "codemirror_mode": {
    "name": "ipython",
    "version": 3
   },
   "file_extension": ".py",
   "mimetype": "text/x-python",
   "name": "python",
   "nbconvert_exporter": "python",
   "pygments_lexer": "ipython3",
   "version": "3.6.0"
  }
 },
 "nbformat": 4,
 "nbformat_minor": 2
}
