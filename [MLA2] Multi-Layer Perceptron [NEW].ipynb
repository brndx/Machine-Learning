{
 "cells": [
  {
   "cell_type": "code",
   "execution_count": 648,
   "metadata": {},
   "outputs": [],
   "source": [
    "import seaborn as sns\n",
    "import numpy as np\n",
    "import skimage.io\n",
    "import os\n",
    "import matplotlib.pyplot as plt\n",
    "\n",
    "from sklearn.model_selection import train_test_split\n",
    "from sklearn.model_selection import StratifiedKFold\n",
    "from keras.models import Sequential\n",
    "from keras.utils import Sequence\n",
    "from keras.layers.core import Dense, Activation\n",
    "from keras.layers.convolutional import Conv2D, MaxPooling2D\n",
    "from keras.layers import Dropout, Flatten\n",
    "from keras.utils import np_utils\n"
   ]
  },
  {
   "cell_type": "code",
   "execution_count": 649,
   "metadata": {},
   "outputs": [],
   "source": [
    "label_dict = {\n",
    " 0: 'T-shirt/top',\n",
    " 1: 'Trouser',\n",
    " 2: 'Pullover',\n",
    " 3: 'Dress',\n",
    " 4: 'Coat',\n",
    " 5: 'Sandal',\n",
    " 6: 'Shirt',\n",
    " 7: 'Sneaker',\n",
    " 8: 'Bag',\n",
    " 9: 'Ankle boot'\n",
    "}"
   ]
  },
  {
   "cell_type": "code",
   "execution_count": 650,
   "metadata": {},
   "outputs": [
    {
     "name": "stdout",
     "output_type": "stream",
     "text": [
      "Found 60000 images belonging to 10 classes.\n",
      "Found 10000 images belonging to 10 classes.\n"
     ]
    }
   ],
   "source": [
    "from keras.preprocessing.image import ImageDataGenerator\n",
    "train_datagen = ImageDataGenerator(\n",
    "        rescale=1./255,\n",
    "        shear_range=0.2,\n",
    "        zoom_range=0.2,\n",
    "        horizontal_flip=True)\n",
    "\n",
    "test_datagen = ImageDataGenerator(rescale=1./255)\n",
    "\n",
    "itr = train_generator = train_datagen.flow_from_directory(\n",
    "        'data/training',\n",
    "        target_size=(28, 28),\n",
    "        batch_size=60000,\n",
    "        class_mode='binary')\n",
    "\n",
    "test = test_generator = test_datagen.flow_from_directory(\n",
    "        'data/testing',\n",
    "        target_size=(28,28),\n",
    "        batch_size=10000,\n",
    "        class_mode='binary')\n"
   ]
  },
  {
   "cell_type": "code",
   "execution_count": 651,
   "metadata": {},
   "outputs": [],
   "source": [
    "X,Y = itr.next()"
   ]
  },
  {
   "cell_type": "code",
   "execution_count": 652,
   "metadata": {},
   "outputs": [
    {
     "data": {
      "text/plain": [
       "(60000, 28, 28, 3)"
      ]
     },
     "execution_count": 652,
     "metadata": {},
     "output_type": "execute_result"
    }
   ],
   "source": [
    "X.shape"
   ]
  },
  {
   "cell_type": "code",
   "execution_count": 653,
   "metadata": {},
   "outputs": [
    {
     "data": {
      "text/plain": [
       "(60000,)"
      ]
     },
     "execution_count": 653,
     "metadata": {},
     "output_type": "execute_result"
    }
   ],
   "source": [
    "Y.shape"
   ]
  },
  {
   "cell_type": "code",
   "execution_count": 654,
   "metadata": {},
   "outputs": [],
   "source": [
    "X = np.array(X)\n",
    "Y = np.array(Y)"
   ]
  },
  {
   "cell_type": "code",
   "execution_count": 655,
   "metadata": {},
   "outputs": [
    {
     "data": {
      "text/plain": [
       "(60000, 28, 28, 3)"
      ]
     },
     "execution_count": 655,
     "metadata": {},
     "output_type": "execute_result"
    }
   ],
   "source": [
    "X.shape"
   ]
  },
  {
   "cell_type": "code",
   "execution_count": 656,
   "metadata": {},
   "outputs": [
    {
     "data": {
      "text/plain": [
       "(10000, 2352)"
      ]
     },
     "execution_count": 656,
     "metadata": {},
     "output_type": "execute_result"
    }
   ],
   "source": [
    "trainX, validationX, trainY, validationY = train_test_split(X,\n",
    "                                Y, train_size=0.9, test_size=0.1, random_state = 0)\n",
    "testX.shape"
   ]
  },
  {
   "cell_type": "code",
   "execution_count": 657,
   "metadata": {},
   "outputs": [
    {
     "data": {
      "text/plain": [
       "(54000,)"
      ]
     },
     "execution_count": 657,
     "metadata": {},
     "output_type": "execute_result"
    }
   ],
   "source": [
    "trainY.shape"
   ]
  },
  {
   "cell_type": "code",
   "execution_count": 658,
   "metadata": {},
   "outputs": [
    {
     "data": {
      "text/plain": [
       "(6000,)"
      ]
     },
     "execution_count": 658,
     "metadata": {},
     "output_type": "execute_result"
    }
   ],
   "source": [
    "validationY.shape"
   ]
  },
  {
   "cell_type": "code",
   "execution_count": 659,
   "metadata": {},
   "outputs": [],
   "source": [
    "testX, testY = test.next()\n"
   ]
  },
  {
   "cell_type": "code",
   "execution_count": 660,
   "metadata": {},
   "outputs": [
    {
     "data": {
      "image/png": "[encoded data removed]",
      "text/plain": [
       "<Figure size 432x288 with 4 Axes>"
      ]
     },
     "metadata": {
      "needs_background": "light"
     },
     "output_type": "display_data"
    }
   ],
   "source": [
    "# plot 4 images as grayscale\n",
    "plt.subplot(221)\n",
    "plt.imshow(trainX[0], cmap=plt.get_cmap('gray'))\n",
    "plt.subplot(222)\n",
    "plt.imshow(trainX[1], cmap=plt.get_cmap('gray'))\n",
    "plt.subplot(223)\n",
    "plt.imshow(trainX[2], cmap=plt.get_cmap('gray'))\n",
    "plt.subplot(224)\n",
    "plt.imshow(trainX[3], cmap=plt.get_cmap('gray'))\n",
    "# show the plot\n",
    "plt.show()"
   ]
  },
  {
   "cell_type": "code",
   "execution_count": 661,
   "metadata": {},
   "outputs": [],
   "source": [
    "trainX = trainX/255\n",
    "validationX = validationX/255\n",
    "testX = testX/255\n",
    "\n",
    "trainY = np_utils.to_categorical(trainY)\n",
    "validationY = np_utils.to_categorical(validationY)\n",
    "testY = np_utils.to_categorical(testY)\n"
   ]
  },
  {
   "cell_type": "code",
   "execution_count": 662,
   "metadata": {},
   "outputs": [],
   "source": [
    "num_pixels = trainX.shape[1] * trainX.shape[2] * trainX.shape[3]\n",
    "trainX = trainX.reshape(trainX.shape[0],\n",
    "num_pixels).astype('float32')\n",
    "validationX = validationX.reshape(validationX.shape[0],\n",
    "num_pixels).astype('float32')\n",
    "testX = testX.reshape(testX.shape[0], num_pixels).astype('float32')\n",
    "model = Sequential()"
   ]
  },
  {
   "cell_type": "code",
   "execution_count": 663,
   "metadata": {},
   "outputs": [],
   "source": [
    "model.add(Dense(350, input_dim=num_pixels, activation='relu'))\n",
    "model.add(Dense(10, activation='softmax'))"
   ]
  },
  {
   "cell_type": "code",
   "execution_count": 664,
   "metadata": {},
   "outputs": [],
   "source": [
    "model.compile(loss='categorical_crossentropy', optimizer='adam', metrics=['accuracy'])"
   ]
  },
  {
   "cell_type": "code",
   "execution_count": 665,
   "metadata": {},
   "outputs": [
    {
     "name": "stdout",
     "output_type": "stream",
     "text": [
      "Train on 54000 samples, validate on 6000 samples\n",
      "Epoch 1/5\n",
      "54000/54000 [==============================] - 51s 943us/step - loss: 0.9712 - acc: 0.7159 - val_loss: 0.6631 - val_acc: 0.7893\n",
      "Epoch 2/5\n",
      "54000/54000 [==============================] - 35s 647us/step - loss: 0.6097 - acc: 0.8091 - val_loss: 0.5930 - val_acc: 0.8153\n",
      "Epoch 3/5\n",
      "54000/54000 [==============================] - 35s 645us/step - loss: 0.5507 - acc: 0.8268 - val_loss: 0.5425 - val_acc: 0.8288\n",
      "Epoch 4/5\n",
      "54000/54000 [==============================] - 35s 647us/step - loss: 0.5015 - acc: 0.8424 - val_loss: 0.4982 - val_acc: 0.8412\n",
      "Epoch 5/5\n",
      "54000/54000 [==============================] - 35s 648us/step - loss: 0.4536 - acc: 0.8591 - val_loss: 0.4524 - val_acc: 0.8602\n"
     ]
    }
   ],
   "source": [
    "history = model.fit(trainX, trainY,\n",
    "validation_data=(validationX,validationY), epochs=5)\n",
    "training_accuracy = history.history['acc']\n",
    "validation_accuracy = history.history['val_acc']\n",
    "training_error = history.history['loss']\n",
    "validation_error = history.history['val_loss']"
   ]
  },
  {
   "cell_type": "code",
   "execution_count": 666,
   "metadata": {},
   "outputs": [
    {
     "name": "stdout",
     "output_type": "stream",
     "text": [
      "MLP Error on test set: 11.06%\n",
      "MLP Accuracy on test set: 88.94%\n"
     ]
    }
   ],
   "source": [
    "scores = model.evaluate(testX, testY, verbose=0)\n",
    "print(\"MLP Error on test set: %.2f%%\" % (100-scores[1]*100))\n",
    "print(\"MLP Accuracy on test set: %.2f%%\" % (scores[1]*100))"
   ]
  },
  {
   "cell_type": "code",
   "execution_count": null,
   "metadata": {},
   "outputs": [],
   "source": []
  },
  {
   "cell_type": "code",
   "execution_count": null,
   "metadata": {},
   "outputs": [],
   "source": []
  },
  {
   "cell_type": "code",
   "execution_count": 667,
   "metadata": {},
   "outputs": [
    {
     "data": {
      "text/plain": [
       "\"    import os \\n    import numpy as np \\n    from keras.preprocessing import image\\n     \\n    PATH = os.getcwd()\\n     \\n    train_path = PATH+'\\\\data\\\\training'\\n    train_batch = os.listdir(train_path)\\n    x_train = []\\n     \\n    # if data are in form of images\\n    for sample in train_data:\\n        img_path = train_path+sample\\n        x = image.load_img(img_path)\\n        # preprocessing if required\\n        x_train.append(x)\\n     \\n    test_path = PATH+'\\\\data\\\\testing'\\n    test_batch = os.listdir(test_path)\\n    x_test = []\\n     \\n    for sample in test_data:\\n        img_path = test_path+sample\\n        x = image.load_img(img_path)\\n        # preprocessing if required\\n        x_test.append(x)\\n    \\n    # finally converting list into numpy array\\n    x_train = np.array(x_train)\\n    x_test = np.array(x_test)\""
      ]
     },
     "execution_count": 667,
     "metadata": {},
     "output_type": "execute_result"
    }
   ],
   "source": [
    "'''    import os \n",
    "    import numpy as np \n",
    "    from keras.preprocessing import image\n",
    "     \n",
    "    PATH = os.getcwd()\n",
    "     \n",
    "    train_path = PATH+'\\\\data\\\\training'\n",
    "    train_batch = os.listdir(train_path)\n",
    "    x_train = []\n",
    "     \n",
    "    # if data are in form of images\n",
    "    for sample in train_data:\n",
    "        img_path = train_path+sample\n",
    "        x = image.load_img(img_path)\n",
    "        # preprocessing if required\n",
    "        x_train.append(x)\n",
    "     \n",
    "    test_path = PATH+'\\\\data\\\\testing'\n",
    "    test_batch = os.listdir(test_path)\n",
    "    x_test = []\n",
    "     \n",
    "    for sample in test_data:\n",
    "        img_path = test_path+sample\n",
    "        x = image.load_img(img_path)\n",
    "        # preprocessing if required\n",
    "        x_test.append(x)\n",
    "    \n",
    "    # finally converting list into numpy array\n",
    "    x_train = np.array(x_train)\n",
    "    x_test = np.array(x_test)'''"
   ]
  }
 ],
 "metadata": {
  "kernelspec": {
   "display_name": "Python 3",
   "language": "python",
   "name": "python3"
  },
  "language_info": {
   "codemirror_mode": {
    "name": "ipython",
    "version": 3
   },
   "file_extension": ".py",
   "mimetype": "text/x-python",
   "name": "python",
   "nbconvert_exporter": "python",
   "pygments_lexer": "ipython3",
   "version": "3.5.6"
  }
 },
 "nbformat": 4,
 "nbformat_minor": 2
}
